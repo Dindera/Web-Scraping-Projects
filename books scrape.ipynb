{
 "cells": [
  {
   "cell_type": "code",
   "execution_count": 1,
   "id": "dabe056a",
   "metadata": {},
   "outputs": [],
   "source": [
    "import requests\n",
    "from bs4 import BeautifulSoup"
   ]
  },
  {
   "cell_type": "code",
   "execution_count": 21,
   "id": "523c3311",
   "metadata": {},
   "outputs": [],
   "source": [
    "import pandas as pd"
   ]
  },
  {
   "cell_type": "code",
   "execution_count": 19,
   "id": "d5f82e14",
   "metadata": {},
   "outputs": [],
   "source": [
    "books = []\n",
    "for i in range(1, 51):\n",
    "    url = f\"http://books.toscrape.com/catalogue/page-{i}.html\"\n",
    "    response = requests.get(url)\n",
    "    response = response.content\n",
    "    soup_data = BeautifulSoup(response, 'html.parser')\n",
    "    \n",
    "    products_container = soup_data.find('ol')\n",
    "    products_articles = products_container.find_all('article', class_='product_pod')\n",
    "    \n",
    "    for article in products_articles:\n",
    "        image = article.find('img')\n",
    "        title = image.attrs['alt']\n",
    "        star = article.find('p')\n",
    "        star = star['class'][1]\n",
    "        price = article.find('p', class_='price_color').text\n",
    "        price = float(price[1:])\n",
    "        books.append([title, price, star])"
   ]
  },
  {
   "cell_type": "code",
   "execution_count": 22,
   "id": "15510f50",
   "metadata": {},
   "outputs": [],
   "source": [
    "df = pd.DataFrame(books, columns=[\"Title\", \"Price\", \"Star Rating\"])"
   ]
  },
  {
   "cell_type": "code",
   "execution_count": 23,
   "id": "cf61f8fa",
   "metadata": {},
   "outputs": [],
   "source": [
    "df.to_csv(\"books_scarape.csv\")"
   ]
  }
 ],
 "metadata": {
  "kernelspec": {
   "display_name": "Python 3",
   "language": "python",
   "name": "python3"
  },
  "language_info": {
   "codemirror_mode": {
    "name": "ipython",
    "version": 3
   },
   "file_extension": ".py",
   "mimetype": "text/x-python",
   "name": "python",
   "nbconvert_exporter": "python",
   "pygments_lexer": "ipython3",
   "version": "3.7.0"
  }
 },
 "nbformat": 4,
 "nbformat_minor": 5
}
